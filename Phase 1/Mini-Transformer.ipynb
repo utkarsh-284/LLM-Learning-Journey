{
 "cells": [
  {
   "cell_type": "markdown",
   "id": "42fb0958",
   "metadata": {},
   "source": [
    "<h1 align='center'>MINI-TRANSFORMER</h1>\n",
    "<h2 align='center'>Financial Sentiment Analysis</h2>"
   ]
  },
  {
   "cell_type": "markdown",
   "id": "b62fa877",
   "metadata": {},
   "source": [
    "Here we are implemeting our previously develped Transformer Model from scratch availabe in `transformers_model.py` and using only `Encoder` layer and devloping our own ***Mini Transformer for Sentiment Analysis from scratch***. We are using a small Financial NEWS dataset available on HuggingFace `fiancial_phrasebank`."
   ]
  },
  {
   "cell_type": "markdown",
   "id": "ca935a84",
   "metadata": {},
   "source": [
    "## Importing Libraries"
   ]
  },
  {
   "cell_type": "code",
   "execution_count": 1,
   "id": "11a5f3a7",
   "metadata": {},
   "outputs": [
    {
     "name": "stderr",
     "output_type": "stream",
     "text": [
      "c:\\Users\\Utkarsh\\miniconda3\\envs\\tf_legacy\\lib\\site-packages\\scipy\\__init__.py:173: UserWarning: A NumPy version >=1.19.5 and <1.27.0 is required for this version of SciPy (detected version 1.19.2)\n",
      "  warnings.warn(f\"A NumPy version >={np_minversion} and <{np_maxversion}\"\n",
      "c:\\Users\\Utkarsh\\miniconda3\\envs\\tf_legacy\\lib\\site-packages\\tqdm\\auto.py:21: TqdmWarning: IProgress not found. Please update jupyter and ipywidgets. See https://ipywidgets.readthedocs.io/en/stable/user_install.html\n",
      "  from .autonotebook import tqdm as notebook_tqdm\n"
     ]
    }
   ],
   "source": [
    "import numpy as np\n",
    "import tensorflow as tf\n",
    "from datasets import load_dataset\n",
    "from datasets import DatasetDict\n",
    "from transformers_model import Encoder, create_padding_mask"
   ]
  },
  {
   "cell_type": "markdown",
   "id": "80fa5739",
   "metadata": {},
   "source": [
    "## Loading Dataset"
   ]
  },
  {
   "cell_type": "code",
   "execution_count": 2,
   "id": "1c0c3ae4",
   "metadata": {},
   "outputs": [],
   "source": [
    "raw_dataset = load_dataset('financial_phrasebank', 'sentences_allagree', trust_remote_code=True)"
   ]
  },
  {
   "cell_type": "code",
   "execution_count": 3,
   "id": "14742f71",
   "metadata": {},
   "outputs": [
    {
     "data": {
      "text/plain": [
       "DatasetDict({\n",
       "    train: Dataset({\n",
       "        features: ['sentence', 'label'],\n",
       "        num_rows: 2264\n",
       "    })\n",
       "})"
      ]
     },
     "execution_count": 3,
     "metadata": {},
     "output_type": "execute_result"
    }
   ],
   "source": [
    "raw_dataset"
   ]
  },
  {
   "cell_type": "code",
   "execution_count": 4,
   "id": "f72aaf1c",
   "metadata": {},
   "outputs": [],
   "source": [
    "train_test_split = raw_dataset['train'].train_test_split(test_size=0.2, seed=42)"
   ]
  },
  {
   "cell_type": "code",
   "execution_count": 5,
   "id": "669a8841",
   "metadata": {},
   "outputs": [
    {
     "data": {
      "text/plain": [
       "DatasetDict({\n",
       "    train: Dataset({\n",
       "        features: ['sentence', 'label'],\n",
       "        num_rows: 1811\n",
       "    })\n",
       "    validation: Dataset({\n",
       "        features: ['sentence', 'label'],\n",
       "        num_rows: 453\n",
       "    })\n",
       "})"
      ]
     },
     "execution_count": 5,
     "metadata": {},
     "output_type": "execute_result"
    }
   ],
   "source": [
    "split_datasets = DatasetDict({\n",
    "    'train': train_test_split['train'],\n",
    "    'validation': train_test_split['test']\n",
    "})\n",
    "\n",
    "split_datasets"
   ]
  },
  {
   "cell_type": "markdown",
   "id": "131c55a1",
   "metadata": {},
   "source": [
    "## Preprocessing Data"
   ]
  },
  {
   "cell_type": "markdown",
   "id": "78557fd0",
   "metadata": {},
   "source": [
    "### Building a vocabulary"
   ]
  },
  {
   "cell_type": "code",
   "execution_count": 6,
   "id": "b294ad16",
   "metadata": {},
   "outputs": [
    {
     "name": "stdout",
     "output_type": "stream",
     "text": [
      "Vocabulary size: 6209\n"
     ]
    }
   ],
   "source": [
    "vocab = {'<PAD>': 0, '<UNK>': 1}\n",
    "for sentence in split_datasets['train']['sentence']:\n",
    "    for word in sentence.lower().split():\n",
    "        if word not in vocab:\n",
    "            vocab[word] = len(vocab)\n",
    "\n",
    "print(f\"Vocabulary size: {len(vocab)}\")"
   ]
  },
  {
   "cell_type": "markdown",
   "id": "35df0063",
   "metadata": {},
   "source": [
    "### Tokenize and numericalize"
   ]
  },
  {
   "cell_type": "code",
   "execution_count": 7,
   "id": "297bfb1b",
   "metadata": {},
   "outputs": [],
   "source": [
    "def tokenize_and_numericalize(example):\n",
    "    tokens = example['sentence'].lower().split()\n",
    "    input_ids = [vocab.get(token, vocab['<UNK>']) for token in tokens]\n",
    "    return {'input_ids': input_ids}"
   ]
  },
  {
   "cell_type": "code",
   "execution_count": 8,
   "id": "89c51031",
   "metadata": {},
   "outputs": [],
   "source": [
    "tokenized_dataset = split_datasets.map(tokenize_and_numericalize, remove_columns=['sentence'])"
   ]
  },
  {
   "cell_type": "code",
   "execution_count": 9,
   "id": "a1cc3c20",
   "metadata": {},
   "outputs": [],
   "source": [
    "tokenized_dataset = tokenized_dataset.rename_column('label', 'labels')"
   ]
  },
  {
   "cell_type": "code",
   "execution_count": 10,
   "id": "2009ec65",
   "metadata": {},
   "outputs": [],
   "source": [
    "tokenized_dataset.set_format(type='python', columns=['input_ids', 'labels'])"
   ]
  },
  {
   "cell_type": "code",
   "execution_count": 11,
   "id": "a36eac29",
   "metadata": {},
   "outputs": [
    {
     "name": "stdout",
     "output_type": "stream",
     "text": [
      "Tokenized Dataset structure: \n",
      "DatasetDict({\n",
      "    train: Dataset({\n",
      "        features: ['labels', 'input_ids'],\n",
      "        num_rows: 1811\n",
      "    })\n",
      "    validation: Dataset({\n",
      "        features: ['labels', 'input_ids'],\n",
      "        num_rows: 453\n",
      "    })\n",
      "})\n"
     ]
    }
   ],
   "source": [
    "print('Tokenized Dataset structure: ')\n",
    "print(tokenized_dataset)"
   ]
  },
  {
   "cell_type": "code",
   "execution_count": 12,
   "id": "94cbb72a",
   "metadata": {},
   "outputs": [
    {
     "name": "stdout",
     "output_type": "stream",
     "text": [
      "Example of tokenized sample:\n",
      "{'labels': 1, 'input_ids': [2, 3, 4, 5, 6, 7, 8, 6, 7, 4, 9, 10, 11, 12, 13, 3, 14, 11, 15]}\n"
     ]
    }
   ],
   "source": [
    "print('Example of tokenized sample:')\n",
    "print(tokenized_dataset['train'][0])"
   ]
  },
  {
   "cell_type": "markdown",
   "id": "844bb729",
   "metadata": {},
   "source": [
    "### Padding `input_ids`"
   ]
  },
  {
   "cell_type": "code",
   "execution_count": 13,
   "id": "45577a7b",
   "metadata": {},
   "outputs": [],
   "source": [
    "train_input_ids = [item['input_ids'] for item in tokenized_dataset['train']]\n",
    "validation_input_ids = [item['input_ids'] for item in tokenized_dataset['validation']]"
   ]
  },
  {
   "cell_type": "code",
   "execution_count": 14,
   "id": "c07d46e1",
   "metadata": {},
   "outputs": [
    {
     "name": "stdout",
     "output_type": "stream",
     "text": [
      "Maximum sequence length: 81\n"
     ]
    }
   ],
   "source": [
    "max_len = max(len(x) for x in train_input_ids)\n",
    "print(f'Maximum sequence length: {max_len}')"
   ]
  },
  {
   "cell_type": "code",
   "execution_count": 15,
   "id": "6f6c2ca4",
   "metadata": {},
   "outputs": [],
   "source": [
    "# Pad the sequence\n",
    "train_input_ids = tf.keras.preprocessing.sequence.pad_sequences(\n",
    "    train_input_ids, maxlen=max_len, padding='post', truncating='post'\n",
    ")\n",
    "validation_input_ids = tf.keras.preprocessing.sequence.pad_sequences(\n",
    "    validation_input_ids, maxlen=max_len, padding='post', truncating='post'\n",
    ")"
   ]
  },
  {
   "cell_type": "code",
   "execution_count": 16,
   "id": "d73b8600",
   "metadata": {},
   "outputs": [],
   "source": [
    "# labels\n",
    "train_labels = np.array([item['labels'] for item in tokenized_dataset['train']])\n",
    "validation_labels = np.array([item['labels'] for item in tokenized_dataset['validation']])"
   ]
  },
  {
   "cell_type": "markdown",
   "id": "b33f8322",
   "metadata": {},
   "source": [
    "## Creating Tensorflow Dataset"
   ]
  },
  {
   "cell_type": "code",
   "execution_count": 17,
   "id": "eb720168",
   "metadata": {},
   "outputs": [],
   "source": [
    "train_dataset = tf.data.Dataset.from_tensor_slices((train_input_ids, train_labels))\n",
    "validation_dataset = tf.data.Dataset.from_tensor_slices((validation_input_ids, validation_labels))"
   ]
  },
  {
   "cell_type": "code",
   "execution_count": 18,
   "id": "16d95228",
   "metadata": {},
   "outputs": [
    {
     "name": "stdout",
     "output_type": "stream",
     "text": [
      "Example of a padded training sample:\n",
      "Input IDs: tf.Tensor(\n",
      "[  7 656   6  20 565 260 657 658  75 659 660 661 258 662 260  47 663 260\n",
      "  12   9 664  75 135 665  28 666 470  12 667  72  15   0   0   0   0   0\n",
      "   0   0   0   0   0   0   0   0   0   0   0   0   0   0   0   0   0   0\n",
      "   0   0   0   0   0   0   0   0   0   0   0   0   0   0   0   0   0   0\n",
      "   0   0   0   0   0   0   0   0   0], shape=(81,), dtype=int32)\n",
      "Label: tf.Tensor(1, shape=(), dtype=int32)\n"
     ]
    }
   ],
   "source": [
    "batch_size = 64\n",
    "shuffle_buffer_size = 200\n",
    "\n",
    "train_dataset = train_dataset.shuffle(shuffle_buffer_size).batch(batch_size)\n",
    "validation_dataset = validation_dataset.batch(batch_size)\n",
    "\n",
    "print(\"Example of a padded training sample:\")\n",
    "for input_ids, labels in train_dataset.take(1):\n",
    "    print(\"Input IDs:\", input_ids[0])\n",
    "    print(\"Label:\", labels[0])"
   ]
  },
  {
   "cell_type": "markdown",
   "id": "08679a2a",
   "metadata": {},
   "source": [
    "This completes our Data Preprocessing Step and we are now ready to build our model for Sentiment Analysis and feed data into it for training."
   ]
  },
  {
   "cell_type": "markdown",
   "id": "36793dae",
   "metadata": {},
   "source": [
    "## Adapting Model for Sentiment Analysis\n",
    "\n",
    "We are going to use our previously develoed `Encoder` layer for the `SentimentAnalysis` model. Since it is a task of classification and such tasks uses only **Encoder Layer**. Models like ***BERT*** and ***RoBERTa*** uses same method only.\n",
    "\n",
    "Also before using `Encoder`, we added the **l2 regularization** in its `FullyConnected` Layer, since we are using only Encoder Layer, this will help in reducing the ***overfitting*** of data."
   ]
  },
  {
   "cell_type": "code",
   "execution_count": 19,
   "id": "a227c79b",
   "metadata": {},
   "outputs": [],
   "source": [
    "class SentimentAnalysis(tf.keras.Model):\n",
    "    \"\"\"\n",
    "    A Transformer-based model for sentiment analysis.\n",
    "    \n",
    "    This model uses the Encoder part of the Transformer architecture to generate\n",
    "    a contextual representation of the input sentence. A dense layer is then\n",
    "    used to classify the sentiment.\n",
    "    \"\"\"\n",
    "    def __init__(self, num_layers, d_model, num_heads, dff, input_vocab_size,\n",
    "                 maximum_position_encoding, num_classes=3, dropout_rate=0.1):\n",
    "        super(SentimentAnalysis, self).__init__()\n",
    "\n",
    "        # Encoder from the Model\n",
    "        self.encoder = Encoder(num_layers, d_model, num_heads, dff,\n",
    "                               input_vocab_size, maximum_position_encoding, dropout_rate)\n",
    "        \n",
    "        # Dense layer for classification\n",
    "        self.final_layer = tf.keras.layers.Dense(num_classes, activation='softmax')\n",
    "\n",
    "    def call(self, x, training, enc_padding_mask):\n",
    "        \"\"\"\n",
    "        Forward pass for the sentiment analysis model.\n",
    "\n",
    "        Args:\n",
    "            x (tf.Tensor): Input tensor of shape (batch_size, input_seq_len)\n",
    "            training (bool): Whether the model is in training mode\n",
    "            enc_padding_mask (tf.Tensor): Mask for the encoder padding\n",
    "\n",
    "        Returns:\n",
    "            tf.Tensor: The output of the classification layer, a tensor of\n",
    "                        shape (batch_size, num_classes)\n",
    "        \"\"\"\n",
    "        # Get Encoder Output\n",
    "        enc_output = self.encoder(x, training, enc_padding_mask)   # (batch_size, inp_seq_len, d_model)\n",
    "\n",
    "        # Use the output for the 1st token, the [CLS] token\n",
    "        cls_output = enc_output[:, 0, :]\n",
    "\n",
    "        # Passing the output to final classification Layer\n",
    "        final_output = self.final_layer(cls_output)   # (batch_size, num_classes)\n",
    "\n",
    "        return final_output"
   ]
  },
  {
   "cell_type": "markdown",
   "id": "ecb669fc",
   "metadata": {},
   "source": [
    "### Initializing the Model\n",
    "\n",
    "After defining the model, the next task is to initialize it with hyperparameters according to our data and requirements."
   ]
  },
  {
   "cell_type": "code",
   "execution_count": 20,
   "id": "68bac87b",
   "metadata": {},
   "outputs": [],
   "source": [
    "num_layers = 2\n",
    "d_model = 128\n",
    "num_heads = 8\n",
    "dff = 512\n",
    "input_vocab_size = 6209\n",
    "maximum_position_encoding = 5000\n",
    "num_classes = 3\n",
    "dropout_rate = 0.1"
   ]
  },
  {
   "cell_type": "code",
   "execution_count": 21,
   "id": "186f66d6",
   "metadata": {},
   "outputs": [],
   "source": [
    "model = SentimentAnalysis(\n",
    "    num_layers=num_layers,\n",
    "    d_model=d_model,\n",
    "    num_heads=num_heads,\n",
    "    dff=dff,\n",
    "    input_vocab_size=input_vocab_size,\n",
    "    maximum_position_encoding=maximum_position_encoding,\n",
    "    num_classes=num_classes,\n",
    "    dropout_rate=dropout_rate)"
   ]
  },
  {
   "cell_type": "markdown",
   "id": "16105d00",
   "metadata": {},
   "source": [
    "Here we are using `SparseCategoricalCrossentropy` loss function as we have three categories in the target labels, and since we are using logits for our predictions, we will keep `from_logits=True`.\n",
    "\n",
    "We have also defined **learning rate schedule** for `Adam` optimizer."
   ]
  },
  {
   "cell_type": "code",
   "execution_count": 22,
   "id": "253a8eab",
   "metadata": {},
   "outputs": [],
   "source": [
    "loss_object = tf.keras.losses.SparseCategoricalCrossentropy(from_logits=True)\n",
    "\n",
    "lr_schedule = tf.keras.optimizers.schedules.ExponentialDecay(\n",
    "    initial_learning_rate=0.0001,\n",
    "    decay_steps=10_000,\n",
    "    decay_rate=0.9,\n",
    "    staircase=True\n",
    ")\n",
    "optimizer = tf.keras.optimizers.Adam(learning_rate=lr_schedule)"
   ]
  },
  {
   "cell_type": "markdown",
   "id": "cdd50b82",
   "metadata": {},
   "source": [
    "#### Training Loop"
   ]
  },
  {
   "cell_type": "code",
   "execution_count": 23,
   "id": "ff8f3761",
   "metadata": {},
   "outputs": [],
   "source": [
    "import time"
   ]
  },
  {
   "cell_type": "code",
   "execution_count": 24,
   "id": "9e1b5202",
   "metadata": {},
   "outputs": [],
   "source": [
    "@tf.function\n",
    "def train_step(inp, tar, model, loss_object, optimizer):\n",
    "    with tf.GradientTape() as tape:\n",
    "        enc_padding_mask = create_padding_mask(inp)\n",
    "        predictions = model(inp, True, enc_padding_mask)\n",
    "        loss = loss_object(tar, predictions)\n",
    "\n",
    "    gradients = tape.gradient(loss, model.trainable_variables)\n",
    "    optimizer.apply_gradients(zip(gradients, model.trainable_variables))\n",
    "\n",
    "    return loss"
   ]
  },
  {
   "cell_type": "code",
   "execution_count": 25,
   "id": "f0971077",
   "metadata": {},
   "outputs": [],
   "source": [
    "@tf.function\n",
    "def validation_step(inp, tar, model, loss_object):\n",
    "    enc_padding_mask = create_padding_mask(inp)\n",
    "    predictions = model(inp, False, enc_padding_mask)\n",
    "    loss = loss_object(tar, predictions)\n",
    "    return loss"
   ]
  },
  {
   "cell_type": "code",
   "execution_count": 26,
   "id": "579ba02f",
   "metadata": {},
   "outputs": [],
   "source": [
    "def train_model(epochs, train_dataset, validation_dataset, model, loss_object, optimizer):\n",
    "    train_loss_history = []\n",
    "    validation_loss_history = []\n",
    "\n",
    "    for epoch in range(epochs):\n",
    "        start = time.time()\n",
    "\n",
    "        train_loss = tf.keras.metrics.Mean(name='train_loss')\n",
    "        validation_loss = tf.keras.metrics.Mean(name='validation_loss')\n",
    "\n",
    "        # Training\n",
    "        for (batch, (inp, tar)) in enumerate(train_dataset):\n",
    "            loss = train_step(inp, tar, model, loss_object, optimizer)\n",
    "            train_loss(loss)\n",
    "\n",
    "        # Validation\n",
    "        for (batch, (inp, tar)) in enumerate(validation_dataset):\n",
    "            loss = validation_step(inp, tar, model, loss_object)\n",
    "            validation_loss(loss)\n",
    "\n",
    "        train_loss_history.append(train_loss.result())\n",
    "        validation_loss_history.append(validation_loss.result())\n",
    "\n",
    "        print(f\"Epoch {epoch + 1}; Loss {train_loss.result():.4f}; Validation Loss {validation_loss.result():.4f}\")\n",
    "        print(f'Time taken for 1 epoch: {time.time() - start:.2f} secs\\\\n')\n",
    "\n",
    "    return train_loss_history, validation_loss_history"
   ]
  },
  {
   "cell_type": "markdown",
   "id": "b4732140",
   "metadata": {},
   "source": [
    "## Training"
   ]
  },
  {
   "cell_type": "code",
   "execution_count": 27,
   "id": "ff7f1f3d",
   "metadata": {},
   "outputs": [
    {
     "name": "stdout",
     "output_type": "stream",
     "text": [
      "Epoch 1; Loss 0.9539; Validation Loss 0.8732\n",
      "Time taken for 1 epoch: 36.80 secs\\n\n",
      "Epoch 2; Loss 0.8407; Validation Loss 0.7890\n",
      "Time taken for 1 epoch: 31.92 secs\\n\n",
      "Epoch 3; Loss 0.7427; Validation Loss 0.7636\n",
      "Time taken for 1 epoch: 31.81 secs\\n\n",
      "Epoch 4; Loss 0.6348; Validation Loss 0.6001\n",
      "Time taken for 1 epoch: 32.77 secs\\n\n",
      "Epoch 5; Loss 0.4920; Validation Loss 0.5831\n",
      "Time taken for 1 epoch: 32.78 secs\\n\n",
      "Epoch 6; Loss 0.4059; Validation Loss 0.6179\n",
      "Time taken for 1 epoch: 32.13 secs\\n\n",
      "Epoch 7; Loss 0.3470; Validation Loss 0.6175\n",
      "Time taken for 1 epoch: 32.16 secs\\n\n",
      "Epoch 8; Loss 0.2886; Validation Loss 0.6490\n",
      "Time taken for 1 epoch: 31.34 secs\\n\n",
      "Epoch 9; Loss 0.2147; Validation Loss 0.6540\n",
      "Time taken for 1 epoch: 31.18 secs\\n\n",
      "Epoch 10; Loss 0.1604; Validation Loss 0.6647\n",
      "Time taken for 1 epoch: 33.00 secs\\n\n"
     ]
    }
   ],
   "source": [
    "epochs = 10\n",
    "\n",
    "train_loss_history, validation_loss_history = train_model(\n",
    "    epochs, train_dataset, validation_dataset, model, loss_object, optimizer\n",
    ")"
   ]
  },
  {
   "cell_type": "code",
   "execution_count": 28,
   "id": "13ccbcc4",
   "metadata": {},
   "outputs": [
    {
     "data": {
      "image/png": "[encoded data removed]",
      "text/plain": [
       "<Figure size 1000x600 with 1 Axes>"
      ]
     },
     "metadata": {},
     "output_type": "display_data"
    }
   ],
   "source": [
    "import matplotlib.pyplot as plt\n",
    "\n",
    "epochs = range(1, len(train_loss_history) + 1)\n",
    "\n",
    "plt.figure(figsize=(10,6))\n",
    "plt.plot(epochs, train_loss_history, 'b-o', label=\"Training Loss\")\n",
    "plt.plot(epochs, validation_loss_history, 'r-o', label=\"Validation Loss\")\n",
    "plt.title(\"Training and Validation Loss\")\n",
    "plt.xlabel(\"Epochs\")\n",
    "plt.ylabel(\"Loss\")\n",
    "plt.legend()\n",
    "plt.grid(True)"
   ]
  },
  {
   "cell_type": "markdown",
   "id": "94ff7e3f",
   "metadata": {},
   "source": [
    "As we can see the training loss is falling gradually but the validation loss first falls, then starts moving randomly. This shows that the model is ***not generalizing well***. This may be beacuse of small dataset and with this little dataset, the model is not able to learn well. We need to use more data in the training process to address this issue."
   ]
  },
  {
   "cell_type": "markdown",
   "id": "06060aed",
   "metadata": {},
   "source": [
    "### Checking the Model"
   ]
  },
  {
   "cell_type": "code",
   "execution_count": 29,
   "id": "a70f78c0",
   "metadata": {},
   "outputs": [],
   "source": [
    "def predict_sentiment(sentence, model, vocab, max_len):\n",
    "\n",
    "    tokens = sentence.lower().split()\n",
    "    input_ids = [vocab.get(token, vocab['<UNK>']) for token in tokens]\n",
    "\n",
    "    # Pad the sequence\n",
    "    padding_input_ids = tf.keras.preprocessing.sequence.pad_sequences(\n",
    "        [input_ids], maxlen=max_len, padding='post', truncating='post'\n",
    "    )\n",
    "\n",
    "    # Create tensor and padding mask\n",
    "    input_tensor = tf.convert_to_tensor(padding_input_ids)\n",
    "    enc_padding_mask = create_padding_mask(input_tensor)\n",
    "\n",
    "    # Make prediction\n",
    "    predictions = model(input_tensor, training=False, enc_padding_mask=enc_padding_mask)\n",
    "    predicted_class = np.argmax(predictions, axis=1)[0]\n",
    "\n",
    "    # Map the class to a sentiment label\n",
    "    sentiment_labels = {0: 'Negative', 1: 'Neutral', 2: 'Positive'}\n",
    "    predicted_sentiment = sentiment_labels[predicted_class]\n",
    "\n",
    "    return predicted_sentiment"
   ]
  },
  {
   "cell_type": "code",
   "execution_count": 30,
   "id": "07ec63f0",
   "metadata": {},
   "outputs": [
    {
     "name": "stdout",
     "output_type": "stream",
     "text": [
      "Sentence: 'The company reported a significant increase in profits.'\n",
      "Predicted Sentiment: Positive\n"
     ]
    }
   ],
   "source": [
    "# Example 1: Positive Sentiment\n",
    "\n",
    "sentence1 = \"The company reported a significant increase in profits.\"\n",
    "prediction1 = predict_sentiment(sentence1, model, vocab, max_len)\n",
    "print(f\"Sentence: '{sentence1}'\")\n",
    "print(f\"Predicted Sentiment: {prediction1}\")"
   ]
  },
  {
   "cell_type": "code",
   "execution_count": 31,
   "id": "5aebba32",
   "metadata": {},
   "outputs": [
    {
     "name": "stdout",
     "output_type": "stream",
     "text": [
      "Sentence: 'There are concerns about the future of the market.'\n",
      "Predicted Sentiment: Neutral\n"
     ]
    }
   ],
   "source": [
    "# Example 2: Negative Sentiment\n",
    "\n",
    "sentence2 = \"There are concerns about the future of the market.\"\n",
    "prediction2 = predict_sentiment(sentence2, model, vocab, max_len)\n",
    "print(f\"Sentence: '{sentence2}'\")\n",
    "print(f\"Predicted Sentiment: {prediction2}\")"
   ]
  },
  {
   "cell_type": "code",
   "execution_count": 32,
   "id": "09cd4c42",
   "metadata": {},
   "outputs": [
    {
     "name": "stdout",
     "output_type": "stream",
     "text": [
      "Sentence: 'The stock price remained unchanged.'\n",
      "Predicted Sentiment: 'Neutral'\n"
     ]
    }
   ],
   "source": [
    "# Example 3: Neutral Sentiment\n",
    "sentence3 = \"The stock price remained unchanged.\"\n",
    "prediction3 = predict_sentiment(sentence3, model, vocab, max_len)\n",
    "print(f\"Sentence: '{sentence3}'\")\n",
    "print(f\"Predicted Sentiment: '{prediction3}'\")"
   ]
  },
  {
   "cell_type": "markdown",
   "id": "b76fb8e5",
   "metadata": {},
   "source": [
    "This shows that the model is correctly able to predict the ***Positive Class*** but fails to predict the ***Negative Class***. THis means that we have to feed more Negative and Neutral information in the data so that it can learn well and can classify well."
   ]
  },
  {
   "cell_type": "markdown",
   "id": "22b7ccb0",
   "metadata": {},
   "source": [
    "## Model Evaluation on the Test set"
   ]
  },
  {
   "cell_type": "code",
   "execution_count": 33,
   "id": "c259c04f",
   "metadata": {},
   "outputs": [
    {
     "name": "stdout",
     "output_type": "stream",
     "text": [
      "              precision    recall  f1-score   support\n",
      "\n",
      "    Negative       0.76      0.47      0.58        73\n",
      "     Neutral       0.93      0.93      0.93       280\n",
      "   Possitive       0.63      0.79      0.70       100\n",
      "\n",
      "    accuracy                           0.83       453\n",
      "   macro avg       0.77      0.73      0.73       453\n",
      "weighted avg       0.83      0.83      0.82       453\n",
      "\n"
     ]
    }
   ],
   "source": [
    "from sklearn.metrics import classification_report\n",
    "\n",
    "y_pred = []\n",
    "y_true = []\n",
    "for inp, tar in validation_dataset:\n",
    "    enc_padding_mask = create_padding_mask(inp)\n",
    "    predictions = model(inp, False, enc_padding_mask)\n",
    "    predicted_classes = np.argmax(predictions, axis=1)\n",
    "    y_pred.extend(predicted_classes)\n",
    "    y_true.extend(tar.numpy())\n",
    "\n",
    "print(classification_report(y_true, y_pred, target_names=['Negative', 'Neutral', 'Possitive']))"
   ]
  },
  {
   "cell_type": "markdown",
   "id": "2568aa48",
   "metadata": {},
   "source": [
    "**Analysis:**\n",
    "\n",
    "*   **High-Level Summary:** The model is excellent at identifying `Neutral` sentiment but struggles with `Negative` and `Positive` sentiments. The overall accuracy of 83% is misleading because it's inflated by the high performance on the dominant \"Neutral\" class.\n",
    "\n",
    "*   **Class-by-Class Breakdown:**\n",
    "    *   **Neutral:** With precision, recall, and F1-score all at `0.93`, the model is highly reliable for this class. This is likely because it's the majority class (`support` = 280) and has the most training examples.\n",
    "    *   **Negative:** This is the model's biggest weakness.\n",
    "        *   **Recall (0.47):** This is a critical issue. It means the model only identifies 47% of all actual negative headlines. It misses more than half of them. In finance, failing to spot negative news is a significant risk.\n",
    "        *   **Precision (0.76):** When it does predict \"Negative,\" it's correct 76% of the time, which is decent.\n",
    "    *   **Positive:** The performance here is mixed.\n",
    "        *   **Precision (0.63):** This is quite low. It means that when the model predicts a headline is \"Positive,\" it's wrong 37% of the time. It's likely misclassifying many `Neutral` sentences as `Positive`.\n",
    "        *   **Recall (0.79):** The model is reasonably good at finding the majority of actual positive headlines.\n",
    "        \n",
    "*   **Key Takeaways & Next Steps:**\n",
    "    1.  **Class Imbalance:** The `support` column shows a clear imbalance (280 Neutral vs. 100 Positive vs. 73 Negative). This is the most likely cause of the performance disparity. The model hasn't seen enough examples of negative and positive sentiment to learn their patterns effectively.\n",
    "    2.  **Focus on Recall for \"Negative\":** The low recall for the negative class is the most important problem to solve.\n",
    "    3.  **Improve Precision for \"Positive\":** The model needs to be less \"trigger-happy\" when predicting positive sentiment."
   ]
  },
  {
   "cell_type": "markdown",
   "id": "59fb315d",
   "metadata": {},
   "source": [
    "### Suggestions for Improvement\n",
    "1. **Use a larger dataset:** The current dataset is small, which makes it difficult for the model to generalize. Using a larger dataset would be the most effective way to improve performance.\n",
    "2. **Use pre-trained embeddings:** Instead of training embeddings from scratch, using pre-trained word embeddings like GloVe or Word2Vec can improve performance, especially with a small vocabulary.\n",
    "3. **Fine-tune a pre-trained model:** For sentiment analysis, fine-tuning a pre-trained model like BERT or DistilBERT is a very effective approach. These models have been trained on massive amounts of text data and have a much better understanding of language.\n",
    "4. **Hyperparameter tuning:** Experiment with different hyperparameters like the number of layers, heads, and the learning rate."
   ]
  }
 ],
 "metadata": {
  "kernelspec": {
   "display_name": "tf_legacy",
   "language": "python",
   "name": "python3"
  },
  "language_info": {
   "codemirror_mode": {
    "name": "ipython",
    "version": 3
   },
   "file_extension": ".py",
   "mimetype": "text/x-python",
   "name": "python",
   "nbconvert_exporter": "python",
   "pygments_lexer": "ipython3",
   "version": "3.8.20"
  }
 },
 "nbformat": 4,
 "nbformat_minor": 5
}
