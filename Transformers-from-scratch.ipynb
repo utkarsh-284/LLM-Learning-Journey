{
 "cells": [
  {
   "cell_type": "markdown",
   "id": "bd310495",
   "metadata": {},
   "source": [
    "<h1 align='center'>Transformers from Scratch</h1>"
   ]
  },
  {
   "cell_type": "code",
   "execution_count": 2,
   "id": "037b6512",
   "metadata": {},
   "outputs": [],
   "source": [
    "import numpy as np\n",
    "import tensorflow as tf\n",
    "import matplotlib.pyplot as plt"
   ]
  },
  {
   "cell_type": "markdown",
   "id": "92c93d01",
   "metadata": {},
   "source": [
    "# 1. Positional Encodings"
   ]
  },
  {
   "cell_type": "markdown",
   "id": "2dc4dd56",
   "metadata": {},
   "source": [
    "$$\n",
    "PE_{(pos, 2i)}= sin\\left(\\frac{pos}{{10000}^{\\frac{2i}{d}}}\\right)\n",
    "\\tag{1}$$\n",
    "<br>\n",
    "\n",
    "$$\n",
    "PE_{(pos, 2i+1)}= cos\\left(\\frac{pos}{{10000}^{\\frac{2i}{d}}}\\right)\n",
    "\\tag{2}$$\n",
    "\n",
    "* $d$ is the dimension of the word embedding and positional encoding\n",
    "* $pos$ is the position of the word.\n",
    "* $k$ refers to each of the different dimensions in the positional encodings, with $i$ equal to $k$ $//$ $2$.\n",
    "\n",
    "To develop some intuition about positional encodings, we can think of them broadly as a feature that contains the information about the relative positions of words. The sum of the positional encoding and word embedding is ultimately what is fed into the model. If we just hard code the positions in, say by adding a matrix of 1's or whole numbers to the word embedding, the semantic meaning is distorted. Conversely, the values of the sine and cosine equations are small enough (between -1 and 1) that when we add the positional encoding to a word embedding, the word embedding is not significantly distorted, and is instead enriched with positional information. Using a combination of these two equations helps our Transformer network attend to the relative positions of our input data."
   ]
  },
  {
   "cell_type": "markdown",
   "id": "5996c5d9",
   "metadata": {},
   "source": [
    "### 1.1 - Sine and Cosine Angles\n",
    "\n",
    "Notice that even though the sine and cosine positional encoding equations take in different arguments (`2i` versus `2i+1`, or even versus odd numbers) the inner terms for both equations are the same: $$\\theta(pos, i, d) = \\frac{pos}{10000^{\\frac{2i}{d}}} \\tag{3}$$\n",
    "\n",
    "Consider the inner term as you calculate the positional encoding for a word in a sequence.<br> \n",
    "$PE_{(pos, 0)}= sin\\left(\\frac{pos}{{10000}^{\\frac{0}{d}}}\\right)$, since solving `2i = 0` gives `i = 0` <br>\n",
    "$PE_{(pos, 1)}= cos\\left(\\frac{pos}{{10000}^{\\frac{0}{d}}}\\right)$, since solving `2i + 1 = 1` gives `i = 0`\n",
    "\n",
    "The angle is the same for both! The angles for $PE_{(pos, 2)}$ and $PE_{(pos, 3)}$ are the same as well, since for both, `i = 1` and therefore the inner term is $\\left(\\frac{pos}{{10000}^{\\frac{2}{d}}}\\right)$. This relationship holds true for all paired sine and cosine curves:\n",
    "\n",
    "|      k         | <code>       0      </code>|<code>       1      </code>|<code>       2      </code>|<code>       3      </code>| <code> ... </code> |<code>      d - 2     </code>|<code>      d - 1     </code>| \n",
    "| ---------------- | :------: | ----------------- | ----------------- | ----------------- | ----- | ----------------- | ----------------- |\n",
    "| encoding(0) = |[$sin(\\theta(0, 0, d))$| $cos(\\theta(0, 0, d))$| $sin(\\theta(0, 1, d))$| $cos(\\theta(0, 1, d))$|... |$sin(\\theta(0, d//2, d))$| $cos(\\theta(0, d//2, d))$]|\n",
    "| encoding(1) = | [$sin(\\theta(1, 0, d))$| $cos(\\theta(1, 0, d))$| $sin(\\theta(1, 1, d))$| $cos(\\theta(1, 1, d))$|... |$sin(\\theta(1, d//2, d))$| $cos(\\theta(1, d//2, d))$]|\n",
    "...\n",
    "| encoding(pos) = | [$sin(\\theta(pos, 0, d))$| $cos(\\theta(pos, 0, d))$| $sin(\\theta(pos, 1, d))$| $cos(\\theta(pos, 1, d))$|... |$sin(\\theta(pos, d//2, d))$| $cos(\\theta(pos, d//2, d))]$|\n"
   ]
  },
  {
   "cell_type": "code",
   "execution_count": 1,
   "id": "5a7e1dac",
   "metadata": {},
   "outputs": [],
   "source": [
    "def get_angles(pos, k, d):\n",
    "    \"\"\"\n",
    "    Get the angles for the positional encoding\n",
    "    \n",
    "    Arguments:\n",
    "        pos -- Column vector containing the positions [[0], [1], ...,[N-1]]\n",
    "        k --   Row vector containing the dimension span [[0, 1, 2, ..., d-1]]\n",
    "        d(integer) -- Encoding size\n",
    "    \n",
    "    Returns:\n",
    "        angles -- (pos, d) numpy array \n",
    "    \"\"\"\n",
    "    # Get the i from dimention span\n",
    "    i = k // 2\n",
    "    # Calculate the angles using pos, i and d\n",
    "    angles = pos / 10000** (2*i/d)\n",
    "    return angles"
   ]
  },
  {
   "cell_type": "code",
   "execution_count": 3,
   "id": "061039b2",
   "metadata": {},
   "outputs": [
    {
     "data": {
      "text/plain": [
       "array([[0.e+00, 0.e+00, 0.e+00, 0.e+00, 0.e+00, 0.e+00, 0.e+00, 0.e+00],\n",
       "       [1.e+00, 1.e+00, 1.e-01, 1.e-01, 1.e-02, 1.e-02, 1.e-03, 1.e-03],\n",
       "       [2.e+00, 2.e+00, 2.e-01, 2.e-01, 2.e-02, 2.e-02, 2.e-03, 2.e-03],\n",
       "       [3.e+00, 3.e+00, 3.e-01, 3.e-01, 3.e-02, 3.e-02, 3.e-03, 3.e-03]])"
      ]
     },
     "execution_count": 3,
     "metadata": {},
     "output_type": "execute_result"
    }
   ],
   "source": [
    "# Example\n",
    "position = 4\n",
    "d_model = 8\n",
    "pos_m = np.arange(position)[:, np.newaxis]\n",
    "dims = np.arange(d_model)[np.newaxis, :]\n",
    "get_angles(pos_m, dims, d_model)"
   ]
  },
  {
   "cell_type": "markdown",
   "id": "e5dd22e9",
   "metadata": {},
   "source": [
    "Implementing the function `positional_encoding()` to calculate the sine and cosine  positional encodings\n",
    "\n",
    "**Reminder:** Use the sine equation when $i$ is an even number and the cosine equation when $i$ is an odd number."
   ]
  },
  {
   "cell_type": "code",
   "execution_count": 4,
   "id": "880e0a65",
   "metadata": {},
   "outputs": [],
   "source": [
    "def positional_encoding(positions, d):\n",
    "    \"\"\"\n",
    "    Precomputes a matrix with all the positional encodings \n",
    "    \n",
    "    Arguments:\n",
    "        positions (int) -- Maximum number of positions to be encoded \n",
    "        d (int) -- Encoding size \n",
    "    \n",
    "    Returns:\n",
    "        pos_encoding -- (1, position, d_model) A matrix with the positional encodings\n",
    "    \"\"\"\n",
    "    # Initializing a matrix angle_rads of all the angles\n",
    "    angle_rads = get_angles(np.arange(positions)[:, np.newaxis], np.arange(d)[np.newaxis, :], d)\n",
    "\n",
    "    # Applying sin to even indices in the array; 2i\n",
    "    angle_rads[:, 0::2] = np.sin(angle_rads[:, 0::2])\n",
    "\n",
    "    # Applying cos to odd indices in the array; 2i + 1\n",
    "    angle_rads[:, 1::2] = np.cos(angle_rads[:, 1::2])\n",
    "\n",
    "    pos_encoding = angle_rads[np.newaxis, ...]   # adding new axis for batch_size\n",
    "\n",
    "    return tf.cast(pos_encoding, dtype=tf.float32)"
   ]
  },
  {
   "cell_type": "markdown",
   "id": "5f8333a2",
   "metadata": {},
   "source": [
    "**Why Add a New Axis?**\n",
    "\n",
    "The reason is for **batching**. Machine learning models are much more efficient when they process multiple sentences at once in a \"batch,\" rather than one at a time.\n",
    "\n",
    "Our (positions, d) matrix represents the positional information for a single sentence.\n",
    "\n",
    "The model expects to receive a batch of sentences. So, the input shape needs to be `(batch_size, positions, d)`.\n",
    "\n",
    "By adding `np.newaxis`, we're adding that `batch_size` dimension. We set it to 1 for now, making our shape (1, 50, 512). This makes it ready to be combined with our actual word embeddings, which will also be organized in batches."
   ]
  },
  {
   "cell_type": "code",
   "execution_count": 7,
   "id": "080c9fae",
   "metadata": {},
   "outputs": [
    {
     "name": "stdout",
     "output_type": "stream",
     "text": [
      "(1, 50, 512)\n"
     ]
    },
    {
     "data": {
      "text/plain": [
       "<matplotlib.colorbar.Colorbar at 0x26d8d352370>"
      ]
     },
     "execution_count": 7,
     "metadata": {},
     "output_type": "execute_result"
    },
    {
     "data": {
      "image/png": "[encoded data removed]",
      "text/plain": [
       "<Figure size 640x480 with 2 Axes>"
      ]
     },
     "metadata": {},
     "output_type": "display_data"
    }
   ],
   "source": [
    "pos_encodings = positional_encoding(50, 512)\n",
    "print(pos_encodings.shape)\n",
    "\n",
    "plt.pcolormesh(pos_encodings[0], cmap='RdBu')\n",
    "plt.xlabel('d')\n",
    "plt.xlim((0,512))\n",
    "plt.ylabel('position')\n",
    "plt.colorbar()"
   ]
  },
  {
   "cell_type": "markdown",
   "id": "5d4c80a7",
   "metadata": {},
   "source": [
    "Let's look a little closer at what's happening. Instead of the values just \"increasing,\" think of them as waves.\n",
    "\n",
    "- **Low Dimensions (left side):** These are very long, slow waves, like a deep bass note. They change gradually across the sentence positions. We can see this in the broad, smooth bands of color.\n",
    "\n",
    "- **High Dimensions (right side):** These are extremely fast, high-frequency waves, like a high-pitched whistle. They change so rapidly from one position to the next that they just look like noise or static on this plot.\n",
    "\n",
    "This mix of low and high-frequency waves is what gives each position its unique ***\"fingerprint.\"*** It allows the model to easily figure out the relative positions of words. For example, if it wants to know if two words are close together, it might look at the high-frequency waves. If it wants to know a word's general location in a long sentence, it might look at the low-frequency waves."
   ]
  },
  {
   "cell_type": "markdown",
   "id": "f6ef9779",
   "metadata": {},
   "source": [
    "# 2. Masking"
   ]
  },
  {
   "cell_type": "markdown",
   "id": "61257a36",
   "metadata": {},
   "source": [
    "### 2.1 Padding Mask"
   ]
  },
  {
   "cell_type": "markdown",
   "id": "02e8dd9f",
   "metadata": {},
   "source": [
    "So, why do we need a padding mask?\n",
    "\n",
    "When we train a model, we usually feed it a \"batch\" of sentences at once. But sentences aren't all the same length. To make them fit into a nice, rectangular tensor, we \"pad\" the shorter ones with zeros until they're all as long as the longest sentence in the batch.\n",
    "\n",
    "The problem is, we don't want the model to treat these zeros as actual words. The **padding mask** is how we tell the model, \"Hey, these zeros are just filler. Please ignore them.\""
   ]
  },
  {
   "cell_type": "code",
   "execution_count": 8,
   "id": "ad16a320",
   "metadata": {},
   "outputs": [],
   "source": [
    "def create_padding_mask(decoder_token_ids):\n",
    "    \"\"\"\n",
    "    Creates a boolean mask for the padding cells\n",
    "    \n",
    "    Arguments:\n",
    "        decoder_token_ids -- (n, m) matrix\n",
    "    \n",
    "    Returns:\n",
    "        mask -- (n, 1, m) boolean tensor\n",
    "    \"\"\"\n",
    "    seq = 1 - tf.cast(tf.math.equal(decoder_token_ids, 0), tf.float32)\n",
    "    # add extra dimensions to add the padding\n",
    "    # to the attention logits. \n",
    "    # this will allow for broadcasting later when comparing sequences\n",
    "    \n",
    "    return seq[:, tf.newaxis, :]"
   ]
  },
  {
   "cell_type": "markdown",
   "id": "68496767",
   "metadata": {},
   "source": [
    "Let's break down that first line from the inside out. It does three things:\n",
    "\n",
    "- `tf.math.equal(decoder_token_ids, 0)`: This checks every token in our input and returns `True` if the token is a 0 (padding) and `False` otherwise.\n",
    "\n",
    "- `tf.cast(..., tf.float32)`: This converts the booleans to numbers. True becomes `1.0` and False becomes `0.0`. So now we have a mask where `1.0` represents the padding.\n",
    "\n",
    "- `1 - ...`: This inverts the mask. Now, `1.0` represents the real words and `0.0` represents the padding. This is the format that TensorFlow's attention mechanism expects.\n",
    "\n",
    "The reason we add this new dimension is to make the mask compatible with the **attention scores matrix**, which has a more complex shape. Think of it like this:\n",
    "\n",
    "- The attention scores will have a shape of `(batch_size, num_heads, sequence_length, sequence_length)`. This is because we calculate attention for each word in the sequence (the rows), against every other word in the sequence (the columns), for every attention head, in every batch.\n",
    "\n",
    "- Our padding mask only cares about which words in the sequence are padding. It has a shape of `(batch_size, sequence_length)`.\n",
    "\n",
    "To apply our simple mask to the complex attention score matrix, we need to make their dimensions compatible. By adding a new axis to make the mask's shape `(batch_size, 1, 1, sequence_length)`, we allow TensorFlow's broadcasting mechanism to \"stretch\" the mask across all the heads and all the query positions.\n",
    "\n",
    "It's an efficient way to apply the same rule—***\"ignore the padding tokens\"***—everywhere it's needed during the attention calculation."
   ]
  },
  {
   "cell_type": "code",
   "execution_count": 9,
   "id": "f9e8ee9a",
   "metadata": {},
   "outputs": [
    {
     "name": "stdout",
     "output_type": "stream",
     "text": [
      "tf.Tensor(\n",
      "[[[1. 1. 0. 0. 1.]]\n",
      "\n",
      " [[1. 1. 1. 0. 0.]]\n",
      "\n",
      " [[0. 0. 0. 1. 1.]]], shape=(3, 1, 5), dtype=float32)\n"
     ]
    }
   ],
   "source": [
    "x = tf.constant([[7., 6., 0., 0., 1.], [1., 2., 3., 0., 0.], [0., 0., 0., 4., 5.]])\n",
    "print(create_padding_mask(x))"
   ]
  },
  {
   "cell_type": "markdown",
   "id": "5b153868",
   "metadata": {},
   "source": [
    "### 2.2 Look Ahead Mask"
   ]
  },
  {
   "cell_type": "markdown",
   "id": "b13f1aa5",
   "metadata": {},
   "source": [
    "The look-ahead mask follows similar intuition. In training, you will have access to the complete correct output of your training example. The look-ahead mask helps your model pretend that it correctly predicted a part of the output and see if, *without looking ahead*, it can correctly predict the next output."
   ]
  },
  {
   "cell_type": "code",
   "execution_count": 10,
   "id": "d2a8529f",
   "metadata": {},
   "outputs": [],
   "source": [
    "def create_look_ahead_mask(sequence_length):\n",
    "    \"\"\"\n",
    "    Returns a lower triangular matrix filled with ones\n",
    "    \n",
    "    Arguments:\n",
    "        sequence_length -- matrix size\n",
    "    \n",
    "    Returns:\n",
    "        mask -- (size, size) tensor\n",
    "    \"\"\"\n",
    "    mask = tf.linalg.band_part(tf.ones((1, sequence_length, sequence_length)), -1, 0)\n",
    "    return mask"
   ]
  },
  {
   "cell_type": "markdown",
   "id": "d2bb3e4d",
   "metadata": {},
   "source": [
    "Here is what this function does:\n",
    "- `tf.ones(...)` creates a square matrix full of ones. If `sequence_length` is 3, its shape is `(1, 3, 3)`.\n",
    "\n",
    "- `tf.linalg.band_part(..., -1, 0)` is the key part. It takes this matrix of ones and zeros out everything above the main diagonal, creating what's called a **lower triangular matrix**.\n",
    "\n",
    "When this mask is used in the attention calculation, the zeros will effectively block the model from seeing future tokens."
   ]
  },
  {
   "cell_type": "code",
   "execution_count": 11,
   "id": "5858e22c",
   "metadata": {},
   "outputs": [
    {
     "data": {
      "text/plain": [
       "<tf.Tensor: shape=(1, 3, 3), dtype=float32, numpy=\n",
       "array([[[1., 0., 0.],\n",
       "        [1., 1., 0.],\n",
       "        [1., 1., 1.]]], dtype=float32)>"
      ]
     },
     "execution_count": 11,
     "metadata": {},
     "output_type": "execute_result"
    }
   ],
   "source": [
    "x = tf.random.uniform((1, 3))\n",
    "temp = create_look_ahead_mask(x.shape[1])\n",
    "temp"
   ]
  },
  {
   "cell_type": "markdown",
   "id": "151c8319",
   "metadata": {},
   "source": [
    "Here, when predicting the word at Position 2, it is allowed to see the word at position 0, 1, and 2, and we might think, it is not \"**predicting**\" anything, it is just copying the answer.\n",
    "\n",
    "Here's the trick: what the model sees as **input** is different from what it's asked to predict as **output**.\n",
    "\n",
    "We feed the decoder the entire sequence at once for efficiency, but we shift the output we're asking it to predict. It works like this:\n",
    "\n",
    "- When the model is at position 0 (\"I\"), we ask it to predict the word at position 1 (\"am\").\n",
    "\n",
    "- When the model is at position 1 (\"am\"), we ask it to predict the word at position 2 (\"learning\").\n",
    "\n",
    "- When the model is at position 2 (\"learning\"), we ask it to predict a special \"end of sentence\" token.\n",
    "\n",
    "The look-ahead mask is what enforces this. Even though the whole sentence \"I am learning\" is technically available, the mask ensures that:\n",
    "\n",
    "- The calculation for position 0 only uses information from \"I\".\n",
    "\n",
    "- The calculation for position 1 only uses information from \"I am\".\n",
    "\n",
    "- The calculation for position 2 only uses information from \"I am learning\".\n",
    "\n",
    "This allows us to train the model on all the prediction steps in a sentence in a single, parallel pass. It's a very clever trick for efficient training!"
   ]
  },
  {
   "cell_type": "markdown",
   "id": "c61c4644",
   "metadata": {},
   "source": [
    "# 3. Self-Attention"
   ]
  },
  {
   "cell_type": "markdown",
   "id": "d72dcc77",
   "metadata": {},
   "source": [
    "The use of self-attention paired with traditional convolutional networks allows for parallelization which speeds up training. We will implement **scaled dot product attention** which takes in a query, key, value, and a mask as inputs to return rich, attention-based vector representations of the words in your sequence. This type of self-attention can be mathematically expressed as:\n",
    "$$\n",
    "\\text { Attention }(Q, K, V)=\\operatorname{softmax}\\left(\\frac{Q K^{T}}{\\sqrt{d_{k}}}+{M}\\right) V\\tag{4}\\\n",
    "$$\n",
    "\n",
    "* $Q$ is the matrix of queries \n",
    "* $K$ is the matrix of keys\n",
    "* $V$ is the matrix of values\n",
    "* $M$ is the optional mask you choose to apply \n",
    "* ${d_k}$ is the dimension of the keys, which is used to scale everything down so the softmax doesn't explode\n",
    "\n",
    "So what exactly are **Query (Q)**, **Key (K)** and **Value (V)**?\n",
    "\n",
    "- **Query (Q)**: This is the current word that's \"asking\" for information. Think of it as saying, \"I'm the word 'it', who in this sentence is relevant to me?\"\n",
    "\n",
    "- **Key (K)**: These are all the words in the sentence \"offering\" information. Each key says, \"I'm the word 'animal', and here's what I'm about.\"\n",
    "\n",
    "- **Value (V)**: This is the actual information that gets passed along. Once a query finds a key it's interested in, it takes that key's corresponding value."
   ]
  },
  {
   "cell_type": "markdown",
   "id": "c16fa2e3",
   "metadata": {},
   "source": [
    "Implementing the function `scaled_dot_product_attention()` to create attention-based representations.\n",
    "\n",
    "**Reminder**: \n",
    "- The boolean mask parameter can be passed in as `none` or as either padding or look-ahead. \n",
    "- Multiplying (1. - mask) by -1e9 before applying the softmax."
   ]
  },
  {
   "cell_type": "code",
   "execution_count": 12,
   "id": "da02f9e6",
   "metadata": {},
   "outputs": [],
   "source": [
    "def scaled_dot_product_attention(q, k, v, mask):\n",
    "    \"\"\"\n",
    "    Calculate the attention weights.\n",
    "      q, k, v must have matching leading dimensions.\n",
    "      k, v must have matching penultimate dimension, i.e.: seq_len_k = seq_len_v.\n",
    "      The mask has different shapes depending on its type(padding or look ahead) \n",
    "      but it must be broadcastable for addition.\n",
    "\n",
    "    Arguments:\n",
    "        q -- query shape == (..., seq_len_q, depth)\n",
    "        k -- key shape == (..., seq_len_k, depth)\n",
    "        v -- value shape == (..., seq_len_v, depth_v)\n",
    "        mask: Float tensor with shape broadcastable \n",
    "              to (..., seq_len_q, seq_len_k). Defaults to None.\n",
    "\n",
    "    Returns:\n",
    "        output -- attention_weights\n",
    "    \"\"\"\n",
    "\n",
    "    matmul_qk = tf.matmul(q, k, transpose_b=True)  #(..., seq_length_q, seq_lenth_k)\n",
    "\n",
    "    # Scaled matmul_qk\n",
    "    dk = tf.cast(tf.shape(k)[-1], tf.float32)   # takes the last dimension of k, i.e. depth\n",
    "    scaled_attention_logits = matmul_qk / tf.sqrt(dk)\n",
    "\n",
    "    # Adding mask to scaled Tensor\n",
    "    if mask is not None:\n",
    "        scaled_attention_logits += (1. - mask) * -1e9\n",
    "\n",
    "    # Softmax is normalized on the last axis so that the score adds up to 1\n",
    "    attention_weights = tf.keras.activations.softmax(scaled_attention_logits, axis=-1)   #(..., seq_length_q, seq_lenth_k)\n",
    "\n",
    "    outputs = tf.matmul(attention_weights, v)   #(..., seq_length_q, depth_v)\n",
    "\n",
    "    return outputs, attention_weights"
   ]
  },
  {
   "cell_type": "markdown",
   "id": "4a7dc5b6",
   "metadata": {},
   "source": [
    "Here when we are applying Softmax on attention weights we are using `axis=-1` which tells the softmax function \"For each **query word** (`seq_len_q`), calculate the probabilities across all the **key words** (`seq_len_k`)\".\n",
    "\n",
    "This ensures that for each word in our sentence, we get a proper probability distribution that adds up to 1 over all the words it could potentially pay attention to. It's how we decide where to \"spend\" our single unit of attention for each word."
   ]
  },
  {
   "cell_type": "markdown",
   "id": "27462218",
   "metadata": {},
   "source": [
    "# 4. Encoder"
   ]
  },
  {
   "cell_type": "markdown",
   "id": "76a60c70",
   "metadata": {},
   "source": [
    "### 4.1 EncoderLayer"
   ]
  },
  {
   "cell_type": "markdown",
   "id": "7096882d",
   "metadata": {},
   "source": [
    "* `MultiHeadAttention` we can think of as computing the self-attention several times to detect different features. \n",
    "* Feed forward neural network contains two Dense layers which we'll implement as the function `FullyConnected`\n",
    "\n",
    "Our input sentence first passes through a *multi-head attention layer*, where the encoder looks at other words in the input sentence as it encodes a specific word. The outputs of the multi-head attention layer are then fed to a *feed forward neural network*. The exact same feed forward network is independently applied to each position."
   ]
  },
  {
   "cell_type": "code",
   "execution_count": 15,
   "id": "1c468c82",
   "metadata": {},
   "outputs": [],
   "source": [
    "def FullyConnected(embedding_dim, fully_connected_dim):\n",
    "    return tf.keras.Sequential([\n",
    "        tf.keras.layers.Input(shape=fully_connected_dim),\n",
    "        tf.keras.layers.Dense(fully_connected_dim, activation='relu'),   # (batch_size, seq_len, dff)\n",
    "        tf.keras.layers.Dense(embedding_dim)   # (batch_size, seq_len, embedding_dim)\n",
    "    ])"
   ]
  },
  {
   "cell_type": "code",
   "execution_count": 16,
   "id": "073d0d7d",
   "metadata": {},
   "outputs": [],
   "source": [
    "class EncoderLayer(tf.keras.layers.Layer):\n",
    "    \"\"\"\n",
    "    The encoder layer is composed by a multi-head self-attention mechanism,\n",
    "    followed by a simple, positionwise fully connected feed-forward network. \n",
    "    This architecture includes a residual connection around each of the two \n",
    "    sub-layers, followed by layer normalization.\n",
    "    \"\"\"\n",
    "    def __init__(self, embedding_dim, num_heads, fully_connected_dim,\n",
    "                 dropout_rate=0.1, layernorm_eps=1e-6):\n",
    "        super(EncoderLayer, self).__init__()\n",
    "\n",
    "        self.mha = tf.keras.layers.MultiHeadAttention(\n",
    "            num_heads=num_heads, key_dim=embedding_dim,dropout=dropout_rate)\n",
    "        \n",
    "        self.ffn = FullyConnected(\n",
    "            embedding_dim=embedding_dim, fully_connected_dim=fully_connected_dim)\n",
    "        \n",
    "        self.layernorm1 = tf.keras.layers.LayerNormalization(epsilon=layernorm_eps)\n",
    "        self.layernorm2 = tf.keras.layers.LayerNormalization(epsilon=layernorm_eps)\n",
    "\n",
    "        self.dropout_ffn = tf.keras.layers.Dropout(dropout_rate)\n",
    "\n",
    "    def call(self, x, training, mask):\n",
    "        \"\"\"\n",
    "        Forward pass for the Encoder Layer\n",
    "        \n",
    "        Arguments:\n",
    "            x -- Tensor of shape (batch_size, input_seq_len, embedding_dim)\n",
    "            training -- Boolean, set to true to activate\n",
    "                        the training mode for dropout layers\n",
    "            mask -- Boolean mask to ensure that the padding is not \n",
    "                    treated as part of the input\n",
    "        Returns:\n",
    "            encoder_layer_out -- Tensor of shape (batch_size, input_seq_len, embedding_dim)\n",
    "        \"\"\"\n",
    "\n",
    "        # Calculating self-attention using mha\n",
    "        self_mha_output = self.mha(x, x, x, attention_mask=mask, training=training)\n",
    "        \n",
    "        # Skip Connection\n",
    "        # Applying layer normalization on the sum of input and the attention output to get the output of MHA layer\n",
    "        skip_x_attention = self.layernorm1(x + self_mha_output)   # (batch_size, input_seq_len, embedding_dim)\n",
    "\n",
    "        # Pass the output of mha layer to ffn\n",
    "        ffn_output = self.ffn(skip_x_attention)\n",
    "\n",
    "        # Applying Dropout\n",
    "        ffn_output = self.dropout_ffn(ffn_output, training=training)\n",
    "        \n",
    "        # Applying Layer normalization on the sum of the output of mha (skip connection) and ffn output to get the output of encoder layer\n",
    "        encoder_layer_output = self.layernorm2(skip_x_attention + ffn_output)   # (batch_size, input_seq_len, embedding_dim)\n",
    "\n",
    "        return encoder_layer_output"
   ]
  },
  {
   "cell_type": "markdown",
   "id": "b30e3165",
   "metadata": {},
   "source": [
    "**Residual Connection** (or *skip connection*), think of it like this:\n",
    "\n",
    "- We start with our original input vectors `x`.\n",
    "\n",
    "- The self-attention layer creates new, context-rich vectors (`self_mha_output`).\n",
    "\n",
    "- The residual connection takes our original input `x` and adds it to these new vectors.\n",
    "\n",
    "This ensures that we don't lose the original information (like the word's basic meaning and position) as we pass it through the layer. It makes it easier for the model to learn and is crucial for training very deep networks."
   ]
  },
  {
   "cell_type": "markdown",
   "id": "33dc8c6c",
   "metadata": {},
   "source": [
    "### 4.2 Full Encoder"
   ]
  },
  {
   "cell_type": "code",
   "execution_count": 21,
   "id": "11be8732",
   "metadata": {},
   "outputs": [],
   "source": [
    "class Encoder(tf.keras.layers.Layer):\n",
    "    \"\"\"\n",
    "    The entire Encoder starts by passing the input to an embedding layer \n",
    "    and using positional encoding to then pass the output through a stack of\n",
    "    encoder Layers\n",
    "        \n",
    "    \"\"\" \n",
    "    def __init__(self, num_layers, embedding_dim, num_heads, fully_connected_dim, input_vocab_size,\n",
    "                 maximum_position_encoding, dropout_rate=0.1, layernorm_eps=1e-6):\n",
    "        super(Encoder, self).__init__()\n",
    "\n",
    "        self.embedding_dim = embedding_dim\n",
    "        self.num_layers = num_layers\n",
    "\n",
    "        self.embedding = tf.keras.layers.Embedding(input_vocab_size, self.embedding_dim)\n",
    "        self.pos_encoding = positional_encoding(maximum_position_encoding, self.embedding_dim)\n",
    "\n",
    "        self.enc_layers = [EncoderLayer(embedding_dim=self.embedding_dim,\n",
    "                                       num_heads=num_heads,\n",
    "                                       fully_connected_dim=fully_connected_dim,\n",
    "                                       dropout_rate=dropout_rate,\n",
    "                                       layernorm_eps=layernorm_eps)\n",
    "                        for _ in range(self.num_layers)]\n",
    "        \n",
    "        self.dropout = tf.keras.layers.Dropout(dropout_rate)\n",
    "\n",
    "    def call(self, x, training, mask):\n",
    "        \"\"\"\n",
    "        Forward pass for the Encoder\n",
    "        \n",
    "        Arguments:\n",
    "            x -- Tensor of shape (batch_size, input_seq_len)\n",
    "            training -- Boolean, set to true to activate\n",
    "                        the training mode for dropout layers\n",
    "            mask -- Boolean mask to ensure that the padding is not \n",
    "                    treated as part of the input\n",
    "        Returns:\n",
    "            x -- Tensor of shape (batch_size, input_seq_len, embedding_dim)\n",
    "        \"\"\"\n",
    "        seq_len = tf.shape(x)[1]\n",
    "\n",
    "        # Passing input through the Embedding layer\n",
    "        x = self.embedding(x)   # (batch_size, input_seq_len, embedding_dim)\n",
    "        \n",
    "        # Scaling Embedding\n",
    "        x *= tf.math.sqrt(tf.cast(tf.shape(x)[-1], dtype=tf.float32))\n",
    "\n",
    "        # Adding Positional Encodings\n",
    "        x += self.pos_encoding[:, :seq_len, :]\n",
    "\n",
    "        # Dropout\n",
    "        x = self.dropout(x, training=training)\n",
    "\n",
    "        # Passing the output through the stack of encoding layers\n",
    "        for i in range(self.num_layers):\n",
    "            x = self.enc_layers[i](x, training=training, mask=mask)\n",
    "\n",
    "        return x # (batch_size, input_seq_len, embedding_dim)"
   ]
  },
  {
   "cell_type": "markdown",
   "id": "95952f57",
   "metadata": {},
   "source": [
    "# 5. Decoder"
   ]
  },
  {
   "cell_type": "markdown",
   "id": "d30a3d81",
   "metadata": {},
   "source": [
    "### 5.1 Decoder Layer\n",
    "\n",
    "1. **Masked Multi-Headed Self-Attention** (Block 1): his first part is almost identical to the self-attention in the Encoder. It lets the Decoder look at the words it has generated so far to understand its own context. The key difference is that it uses the look-ahead mask to prevent it from cheating and looking at future words.\n",
    "2. **Encoder-Decoder Attention (Cross-Attention)** (Block 2): This is the most crucial sub-layer. Here, the model takes the output from the Encoder and combines it with the output from the Decoder's self-attention. This is where the Decoder looks at the original input sentence to decide which parts are most relevant for predicting the very next word.\n",
    "3. **Feed-Forward Network**: This is identical to the one in the Encoder. It's a final processing step.\n",
    "    \n",
    "* The first two blocks are fairly similar to the `EncoderLayer` except we will return `attention_scores` when computing self-attention"
   ]
  },
  {
   "cell_type": "code",
   "execution_count": 22,
   "id": "aa245f04",
   "metadata": {},
   "outputs": [],
   "source": [
    "class DecoderLayer(tf.keras.layers.Layer):\n",
    "    \"\"\"\n",
    "    The decoder layer is composed by two multi-head attention blocks, \n",
    "    one that takes the new input and uses self-attention, and the other \n",
    "    one that combines it with the output of the encoder, followed by a\n",
    "    fully connected block. \n",
    "    \"\"\"\n",
    "    def __init__(self, embedding_dim, num_heads, fully_connected_dim,\n",
    "                 dropout_rate=0.1, layernorm_eps=1e-6):\n",
    "        super(DecoderLayer, self).__init__()\n",
    "\n",
    "        self.mha1 = tf.keras.layers.MultiHeadAttention(num_heads=num_heads,\n",
    "                                                       key_dim=embedding_dim,\n",
    "                                                       dropout=dropout_rate)\n",
    "        \n",
    "        self.mha2 = tf.keras.layers.MultiHeadAttention(num_heads=num_heads,\n",
    "                                                       key_dim=embedding_dim,\n",
    "                                                       dropout=dropout_rate)\n",
    "        \n",
    "        self.ffn = FullyConnected(embedding_dim=embedding_dim,\n",
    "                                  fully_connected_dim=fully_connected_dim)\n",
    "        \n",
    "        self.layernorm1 = tf.keras.layers.LayerNormalization(epsilon=layernorm_eps)\n",
    "        self.layernorm2 = tf.keras.layers.LayerNormalization(epsilon=layernorm_eps)\n",
    "        self.layernorm3 = tf.keras.layers.LayerNormalization(epsilon=layernorm_eps)\n",
    "\n",
    "        self.dropout_ffn = tf.keras.layers.Dropout(dropout_rate)\n",
    "\n",
    "    def call(self, x, enc_output, training, look_ahead_mask, padding_mask):\n",
    "        \"\"\"\n",
    "        Forward pass for the Decoder Layer\n",
    "        \n",
    "        Arguments:\n",
    "            x -- Tensor of shape (batch_size, target_seq_len, embedding_dim)\n",
    "            enc_output --  Tensor of shape(batch_size, input_seq_len, embedding_dim)\n",
    "            training -- Boolean, set to true to activate\n",
    "                        the training mode for dropout layers\n",
    "            look_ahead_mask -- Boolean mask for the target_input\n",
    "            padding_mask -- Boolean mask for the second multihead attention layer\n",
    "        Returns:\n",
    "            out3 -- Tensor of shape (batch_size, target_seq_len, embedding_dim)\n",
    "            attn_weights_block1 -- Tensor of shape(batch_size, num_heads, target_seq_len, input_seq_len)\n",
    "            attn_weights_block2 -- Tensor of shape(batch_size, num_heads, target_seq_len, input_seq_len)\n",
    "        \"\"\"\n",
    "\n",
    "        # enc_output.shape == (batch_size, input_seq_len, embedding_dim)\n",
    "\n",
    "        # BLOCK 1\n",
    "        # Calculating self attention and returning attention score\n",
    "        mult_attn_out1, attn_weights_block1 = self.mha1(\n",
    "            x, x, x, attention_mask=look_ahead_mask, return_attention_scores=True)   # (batch_size, target_seq_len, embedding_dim)\n",
    "\n",
    "        # Applying Layer Normalization to the sum of attention output and input\n",
    "        Q1 = self.layernorm1(mult_attn_out1 + x)\n",
    "\n",
    "\n",
    "        # BLOCK 2\n",
    "        # Calculating the self_attention using Q from the 1st block and K, V from the encoder output\n",
    "        mult_attn_out2, attn_weights_block2 = self.mha2(\n",
    "            Q1, enc_output, enc_output, attention_mask=padding_mask, return_attention_scores=True)   # (batch_size, target_seq_len, embedding_dim)\n",
    "\n",
    "        # Applying Layer Normalization to the sum of attention output and the output from the 1st block\n",
    "        mult_attn_out2 = self.layernorm2(mult_attn_out2 + Q1)   # (batch_size, target_seq_len, embedding_dim)\n",
    "\n",
    "\n",
    "        # BLOCK 3\n",
    "        # Passing the output of the 2nd block through ffn\n",
    "        ffn_output = self.ffn(mult_attn_out2)\n",
    "\n",
    "        # Applying the Dropout\n",
    "        ffn_output = self.dropout_ffn(ffn_output, training=training)\n",
    "\n",
    "        # Applying the Layer Normalization to the sum of ffn output and output of the 2nd block\n",
    "        out3 = self.layernorm3(ffn_output + mult_attn_out2)\n",
    "\n",
    "        return out3, attn_weights_block1, attn_weights_block2"
   ]
  },
  {
   "cell_type": "markdown",
   "id": "acfc7c62",
   "metadata": {},
   "source": [
    "### 5.2 Fully Decoder"
   ]
  },
  {
   "cell_type": "code",
   "execution_count": 23,
   "id": "0c63e944",
   "metadata": {},
   "outputs": [],
   "source": [
    "class Decoder(tf.keras.layers.Layer):\n",
    "    \"\"\"\n",
    "    The entire Encoder starts by passing the target input to an embedding layer \n",
    "    and using positional encoding to then pass the output through a stack of\n",
    "    decoder Layers\n",
    "        \n",
    "    \"\"\" \n",
    "    def __init__(self, num_layers, embedding_dim, num_heads, fully_connected_dim, \n",
    "                 target_vocab_size, maximum_position_encoding,\n",
    "                 dropout_rate=0.1, layernorm_eps=1e-6):\n",
    "        super(Decoder, self).__init__()\n",
    "\n",
    "        self.embedding_dim = embedding_dim\n",
    "        self.num_layers = num_layers\n",
    "\n",
    "        self.embedding = tf.keras.layers.Embedding(target_vocab_size, self.embedding_dim)\n",
    "        self.pos_encoding = positional_encoding(maximum_position_encoding, self.embedding_dim)\n",
    "\n",
    "        self.dec_layer = [DecoderLayer(embedding_dim=self.embedding_dim,\n",
    "                                       num_heads=num_heads,\n",
    "                                       fully_connected_dim=fully_connected_dim,\n",
    "                                       dropout_rate=dropout_rate,\n",
    "                                       layernorm_eps=layernorm_eps)\n",
    "                        for _ in range(self.num_layers)]\n",
    "        \n",
    "        self.dropout = tf.keras.layers.Dropout(dropout_rate)\n",
    "\n",
    "    def call(self, x, enc_output, training, look_ahead_mask, padding_mask):\n",
    "        \"\"\"\n",
    "        Forward  pass for the Decoder\n",
    "        \n",
    "        Arguments:\n",
    "            x -- Tensor of shape (batch_size, target_seq_len, embedding_dim)\n",
    "            enc_output --  Tensor of shape(batch_size, input_seq_len, embedding_dim)\n",
    "            training -- Boolean, set to true to activate\n",
    "                        the training mode for dropout layers\n",
    "            look_ahead_mask -- Boolean mask for the target_input\n",
    "            padding_mask -- Boolean mask for the second multihead attention layer\n",
    "        Returns:\n",
    "            x -- Tensor of shape (batch_size, target_seq_len, embedding_dim)\n",
    "            attention_weights - Dictionary of tensors containing all the attention weights\n",
    "                                each of shape Tensor of shape (batch_size, num_heads, target_seq_len, input_seq_len)\n",
    "        \"\"\"\n",
    "\n",
    "        seq_len = tf.shape(x)[1]\n",
    "        attention_weights = {}\n",
    "\n",
    "        # Creating Word Embeddings\n",
    "        x = self.embedding(x)   # (batch_size, target_seq_len, embedding_dim)\n",
    "\n",
    "        # Scaling Embeddings\n",
    "        x *= tf.math.sqrt(tf.cast(tf.shape(x)[-1], dtype=tf.float32))\n",
    "\n",
    "        # Calculating Positional Encodings and adding to the word Embeddings\n",
    "        x += self.pos_encoding[:, :seq_len, :]\n",
    "\n",
    "        # Applying Dropout\n",
    "        x = self.dropout(x, training=training)\n",
    "\n",
    "        # Using for loop to pass x through the stack of decoding layer and update attention weights\n",
    "        for i in range(self.num_layers):\n",
    "            x, block1, block2 = self.dec_layer[i](x, enc_output, training, look_ahead_mask, padding_mask)\n",
    "\n",
    "            # Updating attention weights\n",
    "            attention_weights['decoder_layer{}_block1_self_att'.format(i + 1)] = block1\n",
    "            attention_weights['decoder_layer{}_block2_decenc_att'.format(i + 1)] = block2\n",
    "\n",
    "        return x, attention_weights"
   ]
  },
  {
   "cell_type": "markdown",
   "id": "9fd349f2",
   "metadata": {},
   "source": [
    "# 6. Transformer"
   ]
  },
  {
   "cell_type": "code",
   "execution_count": 24,
   "id": "beace5a1",
   "metadata": {},
   "outputs": [],
   "source": [
    "class Transformer(tf.keras.layers.Layer):\n",
    "    \"\"\"\n",
    "    Complete transformer with an Encoder and a Decoder\n",
    "    \"\"\"\n",
    "    def __init__(self, num_layers, embedding_dim, num_heads, fully_connected_dim, input_vocab_size,\n",
    "                 targer_vocab_size, max_position_encoding_input, max_position_encoding_target,\n",
    "                 dropout_rate=0.1, layernorm_eps=1e-6):\n",
    "        super(Transformer, self).__init__()\n",
    "\n",
    "        self.encoder = Encoder(num_layers=num_layers,\n",
    "                               embedding_dim=embedding_dim,\n",
    "                               num_heads=num_heads,\n",
    "                               fully_connected_dim=fully_connected_dim,\n",
    "                               input_vocab_size=input_vocab_size,\n",
    "                               maximum_position_encoding=max_position_encoding_input,\n",
    "                               dropout_rate=dropout_rate,\n",
    "                               layernorm_eps=layernorm_eps)\n",
    "        \n",
    "        self.decoder = Decoder(num_layers=num_layers,\n",
    "                               embedding_dim=embedding_dim,\n",
    "                               num_heads=num_heads,\n",
    "                               fully_connected_dim=fully_connected_dim,\n",
    "                               target_vocab_size=targer_vocab_size,\n",
    "                               maximum_position_encoding=max_position_encoding_target,\n",
    "                               dropout_rate=dropout_rate,\n",
    "                               layernorm_eps=layernorm_eps)\n",
    "        \n",
    "        self.final_layer = tf.keras.layers.Dense(targer_vocab_size, activation='softmax')\n",
    "\n",
    "    def call(self, input_sentence, output_sentence, training, enc_padding_mask, look_ahead_mask, dec_padding_mask):\n",
    "        \"\"\"\n",
    "        Forward pass for the entire Transformer\n",
    "        Arguments:\n",
    "            input_sentence -- Tensor of shape (batch_size, input_seq_len)\n",
    "                            An array of the indexes of the words in the input sentence\n",
    "            output_sentence -- Tensor of shape (batch_size, target_seq_len)\n",
    "                            An array of the indexes of the words in the output sentence\n",
    "            training -- Boolean, set to true to activate\n",
    "                        the training mode for dropout layers\n",
    "            enc_padding_mask -- Boolean mask to ensure that the padding is not \n",
    "                    treated as part of the input\n",
    "            look_ahead_mask -- Boolean mask for the target_input\n",
    "            dec_padding_mask -- Boolean mask for the second multihead attention layer\n",
    "        Returns:\n",
    "            final_output -- Describe me\n",
    "            attention_weights - Dictionary of tensors containing all the attention weights for the decoder\n",
    "                                each of shape Tensor of shape (batch_size, num_heads, target_seq_len, input_seq_len)\n",
    "        \n",
    "        \"\"\"\n",
    "        \n",
    "        enc_output = self.encoder(input_sentence, training, enc_padding_mask)\n",
    "\n",
    "        dec_output, attention_weights = self.decoder(output_sentence, enc_output, training, look_ahead_mask, dec_padding_mask)\n",
    "\n",
    "        final_output = self.final_layer(dec_output)\n",
    "\n",
    "        return final_output, attention_weights"
   ]
  }
 ],
 "metadata": {
  "kernelspec": {
   "display_name": "tf",
   "language": "python",
   "name": "python3"
  },
  "language_info": {
   "codemirror_mode": {
    "name": "ipython",
    "version": 3
   },
   "file_extension": ".py",
   "mimetype": "text/x-python",
   "name": "python",
   "nbconvert_exporter": "python",
   "pygments_lexer": "ipython3",
   "version": "3.9.18"
  }
 },
 "nbformat": 4,
 "nbformat_minor": 5
}
